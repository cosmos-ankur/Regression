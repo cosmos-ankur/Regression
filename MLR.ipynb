{
 "cells": [
  {
   "cell_type": "code",
   "execution_count": 3,
   "metadata": {
    "colab": {},
    "colab_type": "code",
    "id": "D1OK8RFM8xgc"
   },
   "outputs": [],
   "source": [
    "import numpy as np\n",
    "import pandas as pd\n",
    "import matplotlib.pyplot as plt\n",
    "%matplotlib inline"
   ]
  },
  {
   "cell_type": "code",
   "execution_count": 4,
   "metadata": {
    "colab": {},
    "colab_type": "code",
    "id": "FuLMYfb28-Qd"
   },
   "outputs": [],
   "source": [
    "#creating a data set with 4  features and one target variable\n",
    "age =  np.linspace(20,50,500) + np.random.uniform(3,6,500)\n",
    "experience = np.linspace(0,20,500) + np.random.uniform(4,8,500)\n",
    "ex_sal = np.linspace(200,20000,500) +np.random.uniform(100,700,500)\n",
    "hours_per_weak = np.linspace(40,80,500) + np.random.uniform(2,10,500)\n",
    "salary = np.linspace(300,2500,500) + np.random.uniform(100,700,500)"
   ]
  },
  {
   "cell_type": "code",
   "execution_count": 5,
   "metadata": {
    "colab": {},
    "colab_type": "code",
    "id": "FyZGpdBk-8Fy"
   },
   "outputs": [],
   "source": [
    "#experience\n",
    "#age\n",
    "#ex_sal\n",
    "#hours_per_weak\n",
    "#salary"
   ]
  },
  {
   "cell_type": "code",
   "execution_count": 6,
   "metadata": {
    "colab": {},
    "colab_type": "code",
    "id": "KC9vPROV-9C7"
   },
   "outputs": [],
   "source": [
    "age = pd.DataFrame(data = age,columns = ['age'])\n",
    "exp = pd.DataFrame(data = experience,columns=['exp'])\n",
    "prev_sal = pd.DataFrame(data = ex_sal,columns=['prev_sal'])\n",
    "h_p_w = pd.DataFrame(data = hours_per_weak,columns=['hours_per_week'])\n",
    "sal = pd.DataFrame(data = salary,columns=['salary'])\n",
    "                     \n",
    "                   "
   ]
  },
  {
   "cell_type": "code",
   "execution_count": 7,
   "metadata": {
    "colab": {},
    "colab_type": "code",
    "id": "52Asg3OACw9N"
   },
   "outputs": [],
   "source": [
    "df = pd.concat([age,exp,prev_sal,h_p_w,sal], axis =1)"
   ]
  },
  {
   "cell_type": "code",
   "execution_count": 8,
   "metadata": {
    "colab": {
     "base_uri": "https://localhost:8080/",
     "height": 402
    },
    "colab_type": "code",
    "id": "xGLw1qiKC7Pv",
    "outputId": "09c2d471-b611-4e68-c736-dba5b9dc0df9"
   },
   "outputs": [
    {
     "data": {
      "text/html": [
       "<div>\n",
       "<style scoped>\n",
       "    .dataframe tbody tr th:only-of-type {\n",
       "        vertical-align: middle;\n",
       "    }\n",
       "\n",
       "    .dataframe tbody tr th {\n",
       "        vertical-align: top;\n",
       "    }\n",
       "\n",
       "    .dataframe thead th {\n",
       "        text-align: right;\n",
       "    }\n",
       "</style>\n",
       "<table border=\"1\" class=\"dataframe\">\n",
       "  <thead>\n",
       "    <tr style=\"text-align: right;\">\n",
       "      <th></th>\n",
       "      <th>age</th>\n",
       "      <th>exp</th>\n",
       "      <th>prev_sal</th>\n",
       "      <th>hours_per_week</th>\n",
       "      <th>salary</th>\n",
       "    </tr>\n",
       "  </thead>\n",
       "  <tbody>\n",
       "    <tr>\n",
       "      <th>0</th>\n",
       "      <td>25.152356</td>\n",
       "      <td>6.048669</td>\n",
       "      <td>397.303023</td>\n",
       "      <td>46.975895</td>\n",
       "      <td>822.370401</td>\n",
       "    </tr>\n",
       "    <tr>\n",
       "      <th>1</th>\n",
       "      <td>25.537609</td>\n",
       "      <td>7.510318</td>\n",
       "      <td>715.758077</td>\n",
       "      <td>48.477370</td>\n",
       "      <td>628.613009</td>\n",
       "    </tr>\n",
       "    <tr>\n",
       "      <th>2</th>\n",
       "      <td>25.021607</td>\n",
       "      <td>7.479353</td>\n",
       "      <td>407.609409</td>\n",
       "      <td>44.723448</td>\n",
       "      <td>843.833012</td>\n",
       "    </tr>\n",
       "    <tr>\n",
       "      <th>3</th>\n",
       "      <td>26.035948</td>\n",
       "      <td>7.797145</td>\n",
       "      <td>679.033902</td>\n",
       "      <td>43.356944</td>\n",
       "      <td>880.797681</td>\n",
       "    </tr>\n",
       "    <tr>\n",
       "      <th>4</th>\n",
       "      <td>24.880269</td>\n",
       "      <td>7.527515</td>\n",
       "      <td>504.637179</td>\n",
       "      <td>47.624460</td>\n",
       "      <td>898.717250</td>\n",
       "    </tr>\n",
       "  </tbody>\n",
       "</table>\n",
       "</div>"
      ],
      "text/plain": [
       "         age       exp    prev_sal  hours_per_week      salary\n",
       "0  25.152356  6.048669  397.303023       46.975895  822.370401\n",
       "1  25.537609  7.510318  715.758077       48.477370  628.613009\n",
       "2  25.021607  7.479353  407.609409       44.723448  843.833012\n",
       "3  26.035948  7.797145  679.033902       43.356944  880.797681\n",
       "4  24.880269  7.527515  504.637179       47.624460  898.717250"
      ]
     },
     "execution_count": 8,
     "metadata": {},
     "output_type": "execute_result"
    }
   ],
   "source": [
    "df.head()"
   ]
  },
  {
   "cell_type": "code",
   "execution_count": 11,
   "metadata": {
    "colab": {},
    "colab_type": "code",
    "id": "C_ZiWXCmC84l"
   },
   "outputs": [],
   "source": [
    "#plt.plot(age,salary)\n",
    "from mpl_toolkits import mplot3d"
   ]
  },
  {
   "cell_type": "code",
   "execution_count": 12,
   "metadata": {
    "colab": {
     "base_uri": "https://localhost:8080/",
     "height": 357
    },
    "colab_type": "code",
    "id": "lVc1TUxVDKuf",
    "outputId": "7c2a486b-ea06-44fe-ba68-b4140e1896c3"
   },
   "outputs": [
    {
     "data": {
      "text/plain": [
       "<matplotlib.axes._subplots.AxesSubplot at 0x28710a66710>"
      ]
     },
     "execution_count": 12,
     "metadata": {},
     "output_type": "execute_result"
    },
    {
     "data": {
      "image/png": "[encoded data removed]",
      "text/plain": [
       "<Figure size 432x288 with 2 Axes>"
      ]
     },
     "metadata": {
      "needs_background": "light"
     },
     "output_type": "display_data"
    }
   ],
   "source": [
    "import seaborn as sns\n",
    "sns.heatmap(df.corr())"
   ]
  },
  {
   "cell_type": "code",
   "execution_count": 13,
   "metadata": {
    "colab": {},
    "colab_type": "code",
    "id": "fjcn7HWNJoCX"
   },
   "outputs": [],
   "source": [
    "x = df[['age','exp','prev_sal','hours_per_week']]\n",
    "y = df['salary']"
   ]
  },
  {
   "cell_type": "code",
   "execution_count": 14,
   "metadata": {
    "colab": {},
    "colab_type": "code",
    "id": "AKjCZGijKZWN"
   },
   "outputs": [],
   "source": [
    "from sklearn.model_selection import train_test_split"
   ]
  },
  {
   "cell_type": "code",
   "execution_count": 15,
   "metadata": {
    "colab": {},
    "colab_type": "code",
    "id": "sEC8qOJ8KdEH"
   },
   "outputs": [],
   "source": [
    "x_train,x_test,y_train,y_test = train_test_split(x,y,test_size =0.2)"
   ]
  },
  {
   "cell_type": "code",
   "execution_count": 16,
   "metadata": {
    "colab": {},
    "colab_type": "code",
    "id": "dIKjNrYgKkY_"
   },
   "outputs": [],
   "source": [
    "from sklearn.linear_model import LinearRegression"
   ]
  },
  {
   "cell_type": "code",
   "execution_count": 17,
   "metadata": {
    "colab": {
     "base_uri": "https://localhost:8080/",
     "height": 34
    },
    "colab_type": "code",
    "id": "l5El3raiKpTT",
    "outputId": "3979cdd0-3f91-4a10-b39e-a067e1b38698"
   },
   "outputs": [
    {
     "data": {
      "text/plain": [
       "LinearRegression(copy_X=True, fit_intercept=True, n_jobs=None,\n",
       "         normalize=False)"
      ]
     },
     "execution_count": 17,
     "metadata": {},
     "output_type": "execute_result"
    }
   ],
   "source": [
    "lig = LinearRegression()\n",
    "lig.fit(x_train,y_train)"
   ]
  },
  {
   "cell_type": "code",
   "execution_count": 18,
   "metadata": {
    "colab": {
     "base_uri": "https://localhost:8080/",
     "height": 50
    },
    "colab_type": "code",
    "id": "qjQGSqdYKtu5",
    "outputId": "61cb1428-7287-4f15-8613-59339b7874d2"
   },
   "outputs": [
    {
     "name": "stdout",
     "output_type": "stream",
     "text": [
      "344.6633658016174\n",
      "[1.94068037 2.61519477 0.0957471  4.93757163]\n"
     ]
    }
   ],
   "source": [
    "print(lig.intercept_)\n",
    "print(lig.coef_)"
   ]
  },
  {
   "cell_type": "code",
   "execution_count": 19,
   "metadata": {
    "colab": {},
    "colab_type": "code",
    "id": "47J76HxnLJRR"
   },
   "outputs": [],
   "source": [
    "pred = lig.predict(x_test)"
   ]
  },
  {
   "cell_type": "code",
   "execution_count": 20,
   "metadata": {
    "colab": {
     "base_uri": "https://localhost:8080/",
     "height": 34
    },
    "colab_type": "code",
    "id": "h-byfCC5LYik",
    "outputId": "95175e64-ae39-4ae9-824c-7401d920d161"
   },
   "outputs": [
    {
     "data": {
      "text/plain": [
       "0.9366887388412151"
      ]
     },
     "execution_count": 20,
     "metadata": {},
     "output_type": "execute_result"
    }
   ],
   "source": [
    "lig.score(x_test,y_test)"
   ]
  },
  {
   "cell_type": "code",
   "execution_count": 21,
   "metadata": {
    "colab": {},
    "colab_type": "code",
    "id": "O4TBH1GpLZXf"
   },
   "outputs": [],
   "source": [
    "from sklearn.metrics import r2_score "
   ]
  },
  {
   "cell_type": "code",
   "execution_count": 22,
   "metadata": {
    "colab": {
     "base_uri": "https://localhost:8080/",
     "height": 34
    },
    "colab_type": "code",
    "id": "KFRqnNwALbtF",
    "outputId": "421e38c4-94a2-4a81-8c25-c31adb00fefd"
   },
   "outputs": [
    {
     "data": {
      "text/plain": [
       "0.9366887388412151"
      ]
     },
     "execution_count": 22,
     "metadata": {},
     "output_type": "execute_result"
    }
   ],
   "source": [
    "r2_score(y_test,pred)"
   ]
  },
  {
   "cell_type": "code",
   "execution_count": 23,
   "metadata": {},
   "outputs": [],
   "source": [
    "import tensorflow as tf\n",
    "\n",
    "\n",
    "from keras.models import Sequential\n",
    "from keras.layers import Dense\n",
    "from keras.optimizers import Adam\n",
    "from keras.callbacks import EarlyStopping"
   ]
  },
  {
   "cell_type": "code",
   "execution_count": 24,
   "metadata": {},
   "outputs": [
    {
     "data": {
      "text/html": [
       "<div>\n",
       "<style scoped>\n",
       "    .dataframe tbody tr th:only-of-type {\n",
       "        vertical-align: middle;\n",
       "    }\n",
       "\n",
       "    .dataframe tbody tr th {\n",
       "        vertical-align: top;\n",
       "    }\n",
       "\n",
       "    .dataframe thead th {\n",
       "        text-align: right;\n",
       "    }\n",
       "</style>\n",
       "<table border=\"1\" class=\"dataframe\">\n",
       "  <thead>\n",
       "    <tr style=\"text-align: right;\">\n",
       "      <th></th>\n",
       "      <th>age</th>\n",
       "      <th>exp</th>\n",
       "      <th>prev_sal</th>\n",
       "      <th>hours_per_week</th>\n",
       "      <th>salary</th>\n",
       "    </tr>\n",
       "  </thead>\n",
       "  <tbody>\n",
       "    <tr>\n",
       "      <th>0</th>\n",
       "      <td>25.152356</td>\n",
       "      <td>6.048669</td>\n",
       "      <td>397.303023</td>\n",
       "      <td>46.975895</td>\n",
       "      <td>822.370401</td>\n",
       "    </tr>\n",
       "    <tr>\n",
       "      <th>1</th>\n",
       "      <td>25.537609</td>\n",
       "      <td>7.510318</td>\n",
       "      <td>715.758077</td>\n",
       "      <td>48.477370</td>\n",
       "      <td>628.613009</td>\n",
       "    </tr>\n",
       "    <tr>\n",
       "      <th>2</th>\n",
       "      <td>25.021607</td>\n",
       "      <td>7.479353</td>\n",
       "      <td>407.609409</td>\n",
       "      <td>44.723448</td>\n",
       "      <td>843.833012</td>\n",
       "    </tr>\n",
       "    <tr>\n",
       "      <th>3</th>\n",
       "      <td>26.035948</td>\n",
       "      <td>7.797145</td>\n",
       "      <td>679.033902</td>\n",
       "      <td>43.356944</td>\n",
       "      <td>880.797681</td>\n",
       "    </tr>\n",
       "    <tr>\n",
       "      <th>4</th>\n",
       "      <td>24.880269</td>\n",
       "      <td>7.527515</td>\n",
       "      <td>504.637179</td>\n",
       "      <td>47.624460</td>\n",
       "      <td>898.717250</td>\n",
       "    </tr>\n",
       "  </tbody>\n",
       "</table>\n",
       "</div>"
      ],
      "text/plain": [
       "         age       exp    prev_sal  hours_per_week      salary\n",
       "0  25.152356  6.048669  397.303023       46.975895  822.370401\n",
       "1  25.537609  7.510318  715.758077       48.477370  628.613009\n",
       "2  25.021607  7.479353  407.609409       44.723448  843.833012\n",
       "3  26.035948  7.797145  679.033902       43.356944  880.797681\n",
       "4  24.880269  7.527515  504.637179       47.624460  898.717250"
      ]
     },
     "execution_count": 24,
     "metadata": {},
     "output_type": "execute_result"
    }
   ],
   "source": [
    "df.head()"
   ]
  },
  {
   "cell_type": "code",
   "execution_count": 25,
   "metadata": {},
   "outputs": [],
   "source": [
    "x_train,x_test,y_train,y_test = train_test_split(x,y,test_size = 0.2)"
   ]
  },
  {
   "cell_type": "code",
   "execution_count": 27,
   "metadata": {},
   "outputs": [],
   "source": [
    "from sklearn import preprocessing\n",
    "x_train = preprocessing.scale(x_train)\n",
    "x_test = preprocessing.scale(x_test)"
   ]
  },
  {
   "cell_type": "code",
   "execution_count": 39,
   "metadata": {},
   "outputs": [
    {
     "name": "stdout",
     "output_type": "stream",
     "text": [
      "Train on 360 samples, validate on 40 samples\n",
      "Epoch 1/50\n",
      "360/360 [==============================] - 0s 1ms/step - loss: 1951213.3167 - val_loss: 551762.4750\n",
      "Epoch 2/50\n",
      "360/360 [==============================] - 0s 42us/step - loss: 192704.2889 - val_loss: 34111.3125\n",
      "Epoch 3/50\n",
      "360/360 [==============================] - 0s 44us/step - loss: 89589.4705 - val_loss: 81958.4844\n",
      "Epoch 4/50\n",
      "360/360 [==============================] - 0s 47us/step - loss: 69446.5689 - val_loss: 29243.0211\n",
      "Epoch 5/50\n",
      "360/360 [==============================] - 0s 53us/step - loss: 34400.1924 - val_loss: 47978.8594\n",
      "Epoch 6/50\n",
      "360/360 [==============================] - 0s 50us/step - loss: 35436.1082 - val_loss: 31460.4219\n",
      "Epoch 7/50\n",
      "360/360 [==============================] - 0s 42us/step - loss: 32449.0670 - val_loss: 26377.5539\n",
      "Epoch 8/50\n",
      "360/360 [==============================] - 0s 47us/step - loss: 33567.8095 - val_loss: 28354.9813\n",
      "Epoch 9/50\n",
      "360/360 [==============================] - 0s 47us/step - loss: 34717.6344 - val_loss: 40330.0266\n",
      "Epoch 10/50\n",
      "360/360 [==============================] - 0s 44us/step - loss: 33611.8196 - val_loss: 35041.6391\n",
      "Epoch 11/50\n",
      "360/360 [==============================] - 0s 58us/step - loss: 31795.2098 - val_loss: 40952.2438\n",
      "Epoch 12/50\n",
      "360/360 [==============================] - 0s 47us/step - loss: 34809.4630 - val_loss: 30324.8438\n",
      "Epoch 13/50\n",
      "360/360 [==============================] - 0s 47us/step - loss: 32562.4566 - val_loss: 28940.4906\n",
      "Epoch 14/50\n",
      "360/360 [==============================] - 0s 50us/step - loss: 32128.0979 - val_loss: 30060.6953\n",
      "Epoch 15/50\n",
      "360/360 [==============================] - 0s 53us/step - loss: 31813.9007 - val_loss: 38812.0156\n",
      "Epoch 16/50\n",
      "360/360 [==============================] - 0s 69us/step - loss: 33435.8935 - val_loss: 31231.7156\n",
      "Epoch 17/50\n",
      "360/360 [==============================] - 0s 47us/step - loss: 33970.3531 - val_loss: 27346.0703\n",
      "Epoch 18/50\n",
      "360/360 [==============================] - 0s 55us/step - loss: 35320.1855 - val_loss: 28117.9695\n",
      "Epoch 19/50\n",
      "360/360 [==============================] - 0s 44us/step - loss: 32538.1414 - val_loss: 42333.6953\n",
      "Epoch 20/50\n",
      "360/360 [==============================] - 0s 58us/step - loss: 32397.8563 - val_loss: 37666.0250\n",
      "Epoch 21/50\n",
      "360/360 [==============================] - 0s 50us/step - loss: 33531.5158 - val_loss: 27023.2172\n",
      "Epoch 22/50\n",
      "360/360 [==============================] - 0s 47us/step - loss: 41850.6052 - val_loss: 29648.4313\n",
      "Epoch 23/50\n",
      "360/360 [==============================] - 0s 44us/step - loss: 35711.5757 - val_loss: 51559.7625\n",
      "Epoch 24/50\n",
      "360/360 [==============================] - 0s 50us/step - loss: 36264.6351 - val_loss: 29469.3156\n",
      "Epoch 25/50\n",
      "360/360 [==============================] - 0s 50us/step - loss: 33048.9221 - val_loss: 27953.2898\n",
      "Epoch 26/50\n",
      "360/360 [==============================] - 0s 44us/step - loss: 34174.7868 - val_loss: 34469.4328\n",
      "Epoch 27/50\n",
      "360/360 [==============================] - 0s 47us/step - loss: 32841.6036 - val_loss: 27135.0523\n",
      "Epoch 28/50\n",
      "360/360 [==============================] - 0s 47us/step - loss: 32258.6431 - val_loss: 29714.8570\n",
      "Epoch 29/50\n",
      "360/360 [==============================] - 0s 50us/step - loss: 32077.4871 - val_loss: 27180.6070\n",
      "Epoch 30/50\n",
      "360/360 [==============================] - 0s 47us/step - loss: 33753.7613 - val_loss: 35749.9391\n",
      "Epoch 31/50\n",
      "360/360 [==============================] - 0s 50us/step - loss: 34691.7998 - val_loss: 27309.1250\n",
      "Epoch 32/50\n",
      "360/360 [==============================] - 0s 42us/step - loss: 34899.4470 - val_loss: 29668.0000\n",
      "Epoch 33/50\n",
      "360/360 [==============================] - 0s 61us/step - loss: 35616.1092 - val_loss: 47388.8391\n",
      "Epoch 34/50\n",
      "360/360 [==============================] - 0s 64us/step - loss: 35423.2054 - val_loss: 34676.6484\n",
      "Epoch 35/50\n",
      "360/360 [==============================] - 0s 55us/step - loss: 31976.9873 - val_loss: 29908.1594\n",
      "Epoch 36/50\n",
      "360/360 [==============================] - 0s 58us/step - loss: 32195.8541 - val_loss: 34383.8836\n",
      "Epoch 37/50\n",
      "360/360 [==============================] - 0s 47us/step - loss: 32604.2503 - val_loss: 31189.6188\n",
      "Epoch 38/50\n",
      "360/360 [==============================] - 0s 53us/step - loss: 33046.5979 - val_loss: 46478.6844\n",
      "Epoch 39/50\n",
      "360/360 [==============================] - 0s 86us/step - loss: 37195.9535 - val_loss: 32815.2391\n",
      "Epoch 40/50\n",
      "360/360 [==============================] - 0s 53us/step - loss: 35638.1964 - val_loss: 25609.7828\n",
      "Epoch 41/50\n",
      "360/360 [==============================] - 0s 72us/step - loss: 35325.6003 - val_loss: 46068.3906\n",
      "Epoch 42/50\n",
      "360/360 [==============================] - 0s 50us/step - loss: 36803.7010 - val_loss: 26760.1422\n",
      "Epoch 43/50\n",
      "360/360 [==============================] - 0s 42us/step - loss: 36244.5036 - val_loss: 28048.3547\n",
      "Epoch 44/50\n",
      "360/360 [==============================] - 0s 36us/step - loss: 33082.1151 - val_loss: 26467.5734\n",
      "Epoch 45/50\n",
      "360/360 [==============================] - 0s 42us/step - loss: 35506.2356 - val_loss: 28045.2281\n",
      "Epoch 46/50\n",
      "360/360 [==============================] - 0s 50us/step - loss: 31582.4843 - val_loss: 25542.6258\n",
      "Epoch 47/50\n",
      "360/360 [==============================] - 0s 47us/step - loss: 37014.3522 - val_loss: 32530.6734\n",
      "Epoch 48/50\n",
      "360/360 [==============================] - 0s 47us/step - loss: 32011.4956 - val_loss: 25316.7000\n",
      "Epoch 49/50\n",
      "360/360 [==============================] - 0s 50us/step - loss: 32027.4898 - val_loss: 29763.9195\n",
      "Epoch 50/50\n",
      "360/360 [==============================] - 0s 47us/step - loss: 31871.8253 - val_loss: 29384.5531\n",
      "Train on 360 samples, validate on 40 samples\n",
      "Epoch 1/50\n",
      "360/360 [==============================] - 0s 1ms/step - loss: 2046095.1694 - val_loss: 949981.9500\n",
      "Epoch 2/50\n",
      "360/360 [==============================] - 0s 39us/step - loss: 537195.1819 - val_loss: 88370.7906\n",
      "Epoch 3/50\n",
      "360/360 [==============================] - 0s 42us/step - loss: 168831.5229 - val_loss: 134655.4750\n",
      "Epoch 4/50\n",
      "360/360 [==============================] - 0s 42us/step - loss: 72565.5686 - val_loss: 48560.3828\n",
      "Epoch 5/50\n",
      "360/360 [==============================] - 0s 67us/step - loss: 58013.2103 - val_loss: 66042.4656\n",
      "Epoch 6/50\n",
      "360/360 [==============================] - 0s 42us/step - loss: 42365.8924 - val_loss: 40602.4000\n",
      "Epoch 7/50\n",
      "360/360 [==============================] - 0s 42us/step - loss: 35772.1191 - val_loss: 34299.4625\n",
      "Epoch 8/50\n",
      "360/360 [==============================] - 0s 44us/step - loss: 39654.1352 - val_loss: 31601.6531\n",
      "Epoch 9/50\n",
      "360/360 [==============================] - 0s 39us/step - loss: 37573.1923 - val_loss: 31976.2000\n",
      "Epoch 10/50\n",
      "360/360 [==============================] - 0s 42us/step - loss: 34795.3064 - val_loss: 56365.8453\n",
      "Epoch 11/50\n",
      "360/360 [==============================] - 0s 42us/step - loss: 63843.9382 - val_loss: 47906.2344\n",
      "Epoch 12/50\n",
      "360/360 [==============================] - 0s 42us/step - loss: 58569.2127 - val_loss: 48211.2188\n",
      "Epoch 13/50\n",
      "360/360 [==============================] - 0s 44us/step - loss: 43693.5885 - val_loss: 40423.3195\n",
      "Epoch 14/50\n",
      "360/360 [==============================] - 0s 42us/step - loss: 45740.4023 - val_loss: 30042.6531\n",
      "Epoch 15/50\n",
      "360/360 [==============================] - 0s 42us/step - loss: 45609.4467 - val_loss: 95162.1578\n",
      "Epoch 16/50\n",
      "360/360 [==============================] - 0s 42us/step - loss: 73948.2281 - val_loss: 41186.7141\n",
      "Epoch 17/50\n",
      "360/360 [==============================] - 0s 42us/step - loss: 46985.7969 - val_loss: 39908.8383\n",
      "Epoch 18/50\n",
      "360/360 [==============================] - 0s 53us/step - loss: 33048.1333 - val_loss: 32835.8141\n",
      "Epoch 19/50\n",
      "360/360 [==============================] - 0s 47us/step - loss: 33702.6637 - val_loss: 43032.7234\n",
      "Epoch 20/50\n",
      "360/360 [==============================] - 0s 42us/step - loss: 44011.4096 - val_loss: 61829.9234\n",
      "Epoch 21/50\n",
      "360/360 [==============================] - 0s 39us/step - loss: 61523.8094 - val_loss: 87256.8969\n",
      "Epoch 22/50\n",
      "360/360 [==============================] - 0s 42us/step - loss: 53097.7097 - val_loss: 34180.0828\n",
      "Epoch 23/50\n",
      "360/360 [==============================] - 0s 42us/step - loss: 42410.1166 - val_loss: 34661.8320\n",
      "Epoch 24/50\n",
      "360/360 [==============================] - 0s 42us/step - loss: 36131.7686 - val_loss: 46966.6719\n"
     ]
    },
    {
     "name": "stdout",
     "output_type": "stream",
     "text": [
      "Epoch 25/50\n",
      "360/360 [==============================] - 0s 44us/step - loss: 54212.3325 - val_loss: 58351.8828\n",
      "Epoch 26/50\n",
      "360/360 [==============================] - 0s 44us/step - loss: 57710.7878 - val_loss: 38497.9820\n",
      "Epoch 27/50\n",
      "360/360 [==============================] - 0s 42us/step - loss: 214815.6361 - val_loss: 384884.8937\n",
      "Epoch 28/50\n",
      "360/360 [==============================] - 0s 39us/step - loss: 533774.5722 - val_loss: 70512.2703\n",
      "Epoch 29/50\n",
      "360/360 [==============================] - 0s 33us/step - loss: 364804.9538 - val_loss: 134819.5344\n",
      "Epoch 30/50\n",
      "360/360 [==============================] - 0s 33us/step - loss: 223116.1250 - val_loss: 209471.5625\n",
      "Epoch 31/50\n",
      "360/360 [==============================] - 0s 30us/step - loss: 243650.8958 - val_loss: 182929.5375\n",
      "Epoch 32/50\n",
      "360/360 [==============================] - 0s 39us/step - loss: 267504.3104 - val_loss: 47216.2562\n",
      "Epoch 33/50\n",
      "360/360 [==============================] - 0s 36us/step - loss: 84794.7214 - val_loss: 155775.0312\n",
      "Epoch 34/50\n",
      "360/360 [==============================] - 0s 36us/step - loss: 78843.8094 - val_loss: 40900.7211\n",
      "Epoch 35/50\n",
      "360/360 [==============================] - 0s 36us/step - loss: 39431.4076 - val_loss: 46296.7297\n",
      "Epoch 36/50\n",
      "360/360 [==============================] - 0s 36us/step - loss: 47806.2686 - val_loss: 58373.2109\n",
      "Epoch 37/50\n",
      "360/360 [==============================] - 0s 28us/step - loss: 70513.1880 - val_loss: 70972.5828\n",
      "Epoch 38/50\n",
      "360/360 [==============================] - 0s 33us/step - loss: 64176.9870 - val_loss: 34461.7922\n",
      "Epoch 39/50\n",
      "360/360 [==============================] - 0s 36us/step - loss: 48999.4432 - val_loss: 78750.0125\n",
      "Epoch 40/50\n",
      "360/360 [==============================] - 0s 39us/step - loss: 46764.5881 - val_loss: 31391.4672\n",
      "Epoch 41/50\n",
      "360/360 [==============================] - 0s 44us/step - loss: 54208.6596 - val_loss: 142867.8375\n",
      "Epoch 42/50\n",
      "360/360 [==============================] - 0s 44us/step - loss: 85086.1500 - val_loss: 32550.2719\n",
      "Epoch 43/50\n",
      "360/360 [==============================] - 0s 36us/step - loss: 41593.6917 - val_loss: 117634.1875\n",
      "Epoch 44/50\n",
      "360/360 [==============================] - 0s 42us/step - loss: 72590.3549 - val_loss: 62621.1406\n",
      "Epoch 45/50\n",
      "360/360 [==============================] - 0s 44us/step - loss: 65282.3594 - val_loss: 33557.7906\n",
      "Epoch 46/50\n",
      "360/360 [==============================] - 0s 39us/step - loss: 55840.7891 - val_loss: 35813.6781\n",
      "Epoch 47/50\n",
      "360/360 [==============================] - 0s 42us/step - loss: 57727.5612 - val_loss: 109850.8938\n",
      "Epoch 48/50\n",
      "360/360 [==============================] - 0s 39us/step - loss: 71865.9889 - val_loss: 47535.1000\n",
      "Epoch 49/50\n",
      "360/360 [==============================] - 0s 39us/step - loss: 57657.5232 - val_loss: 72328.0156\n",
      "Epoch 50/50\n",
      "360/360 [==============================] - 0s 39us/step - loss: 51267.1812 - val_loss: 55194.0500\n",
      "Train on 360 samples, validate on 40 samples\n",
      "Epoch 1/50\n",
      "360/360 [==============================] - 0s 1ms/step - loss: 603034656.1778 - val_loss: 308724454.4000\n",
      "Epoch 2/50\n",
      "360/360 [==============================] - 0s 36us/step - loss: 141552150.2222 - val_loss: 140876153.6000\n",
      "Epoch 3/50\n",
      "360/360 [==============================] - 0s 36us/step - loss: 51807636.9889 - val_loss: 48362328.0000\n",
      "Epoch 4/50\n",
      "360/360 [==============================] - 0s 36us/step - loss: 21297173.7292 - val_loss: 10727453.6000\n",
      "Epoch 5/50\n",
      "360/360 [==============================] - 0s 36us/step - loss: 4587462.7250 - val_loss: 2115900.6000\n",
      "Epoch 6/50\n",
      "360/360 [==============================] - 0s 33us/step - loss: 1445799.1549 - val_loss: 218988.8625\n",
      "Epoch 7/50\n",
      "360/360 [==============================] - 0s 33us/step - loss: 375891.5896 - val_loss: 402268.3875\n",
      "Epoch 8/50\n",
      "360/360 [==============================] - 0s 36us/step - loss: 179299.1948 - val_loss: 86773.4719\n",
      "Epoch 9/50\n",
      "360/360 [==============================] - 0s 33us/step - loss: 96619.0170 - val_loss: 35975.1023\n",
      "Epoch 10/50\n",
      "360/360 [==============================] - 0s 36us/step - loss: 62594.5611 - val_loss: 64723.9547\n",
      "Epoch 11/50\n",
      "360/360 [==============================] - 0s 33us/step - loss: 51866.3498 - val_loss: 26839.8797\n",
      "Epoch 12/50\n",
      "360/360 [==============================] - 0s 36us/step - loss: 51544.4601 - val_loss: 32536.0484\n",
      "Epoch 13/50\n",
      "360/360 [==============================] - 0s 33us/step - loss: 37699.7657 - val_loss: 30295.8406\n",
      "Epoch 14/50\n",
      "360/360 [==============================] - 0s 33us/step - loss: 37248.2306 - val_loss: 31358.2062\n",
      "Epoch 15/50\n",
      "360/360 [==============================] - 0s 30us/step - loss: 39368.9974 - val_loss: 27290.5219\n",
      "Epoch 16/50\n",
      "360/360 [==============================] - 0s 36us/step - loss: 41108.0458 - val_loss: 35143.1523\n",
      "Epoch 17/50\n",
      "360/360 [==============================] - 0s 36us/step - loss: 37309.7161 - val_loss: 29609.0773\n",
      "Epoch 18/50\n",
      "360/360 [==============================] - 0s 36us/step - loss: 37958.0752 - val_loss: 27447.5578\n",
      "Epoch 19/50\n",
      "360/360 [==============================] - 0s 36us/step - loss: 42379.9987 - val_loss: 47682.3367\n",
      "Epoch 20/50\n",
      "360/360 [==============================] - 0s 36us/step - loss: 51668.2793 - val_loss: 28006.7375\n",
      "Epoch 21/50\n",
      "360/360 [==============================] - 0s 33us/step - loss: 47250.9983 - val_loss: 37825.7109\n",
      "Epoch 22/50\n",
      "360/360 [==============================] - 0s 36us/step - loss: 41382.2606 - val_loss: 41337.2234\n",
      "Epoch 23/50\n",
      "360/360 [==============================] - 0s 36us/step - loss: 35661.0605 - val_loss: 33369.6992\n",
      "Epoch 24/50\n",
      "360/360 [==============================] - 0s 36us/step - loss: 38475.4670 - val_loss: 35594.0398\n",
      "Epoch 25/50\n",
      "360/360 [==============================] - 0s 36us/step - loss: 38492.5576 - val_loss: 50596.1672\n",
      "Epoch 26/50\n",
      "360/360 [==============================] - 0s 36us/step - loss: 34554.9266 - val_loss: 25970.2383\n",
      "Epoch 27/50\n",
      "360/360 [==============================] - 0s 36us/step - loss: 50115.3775 - val_loss: 28814.9219\n",
      "Epoch 28/50\n",
      "360/360 [==============================] - 0s 36us/step - loss: 44767.1484 - val_loss: 72203.6250\n",
      "Epoch 29/50\n",
      "360/360 [==============================] - 0s 33us/step - loss: 46355.4014 - val_loss: 52984.6398\n",
      "Epoch 30/50\n",
      "360/360 [==============================] - 0s 33us/step - loss: 36572.2844 - val_loss: 43305.8812\n",
      "Epoch 31/50\n",
      "360/360 [==============================] - 0s 39us/step - loss: 37034.8057 - val_loss: 30956.7945\n",
      "Epoch 32/50\n",
      "360/360 [==============================] - 0s 33us/step - loss: 42086.5292 - val_loss: 73180.3031\n",
      "Epoch 33/50\n",
      "360/360 [==============================] - 0s 39us/step - loss: 47532.7802 - val_loss: 28269.4594\n",
      "Epoch 34/50\n",
      "360/360 [==============================] - 0s 36us/step - loss: 76578.6830 - val_loss: 39226.6672\n",
      "Epoch 35/50\n",
      "360/360 [==============================] - 0s 39us/step - loss: 69429.4573 - val_loss: 43585.0969\n",
      "Epoch 36/50\n",
      "360/360 [==============================] - 0s 36us/step - loss: 63703.4136 - val_loss: 49768.8516\n",
      "Epoch 37/50\n",
      "360/360 [==============================] - 0s 36us/step - loss: 44168.9708 - val_loss: 32289.8891\n",
      "Epoch 38/50\n",
      "360/360 [==============================] - 0s 36us/step - loss: 42033.3484 - val_loss: 33406.0250\n",
      "Epoch 39/50\n",
      "360/360 [==============================] - 0s 33us/step - loss: 45091.8517 - val_loss: 26690.3828\n",
      "Epoch 40/50\n",
      "360/360 [==============================] - 0s 36us/step - loss: 53359.3874 - val_loss: 80801.8328\n",
      "Epoch 41/50\n",
      "360/360 [==============================] - 0s 36us/step - loss: 54801.0763 - val_loss: 80730.1242\n",
      "Epoch 42/50\n",
      "360/360 [==============================] - 0s 39us/step - loss: 48578.7489 - val_loss: 46951.7422\n",
      "Epoch 43/50\n",
      "360/360 [==============================] - 0s 33us/step - loss: 55842.5510 - val_loss: 31976.6891\n",
      "Epoch 44/50\n",
      "360/360 [==============================] - 0s 39us/step - loss: 41006.3311 - val_loss: 54655.6594\n",
      "Epoch 45/50\n",
      "360/360 [==============================] - 0s 36us/step - loss: 44939.1951 - val_loss: 61522.0000\n",
      "Epoch 46/50\n",
      "360/360 [==============================] - 0s 33us/step - loss: 48247.1847 - val_loss: 53773.2844\n",
      "Epoch 47/50\n",
      "360/360 [==============================] - 0s 36us/step - loss: 48774.5612 - val_loss: 26883.3617\n",
      "Epoch 48/50\n"
     ]
    },
    {
     "name": "stdout",
     "output_type": "stream",
     "text": [
      "360/360 [==============================] - 0s 36us/step - loss: 42728.6788 - val_loss: 52282.1188\n",
      "Epoch 49/50\n",
      "360/360 [==============================] - 0s 36us/step - loss: 73615.8378 - val_loss: 37500.0953\n",
      "Epoch 50/50\n",
      "360/360 [==============================] - 0s 36us/step - loss: 36713.5630 - val_loss: 115301.7375\n"
     ]
    },
    {
     "data": {
      "image/png": "[encoded data removed]",
      "text/plain": [
       "<Figure size 432x288 with 1 Axes>"
      ]
     },
     "metadata": {
      "needs_background": "light"
     },
     "output_type": "display_data"
    },
    {
     "data": {
      "image/png": "[encoded data removed]",
      "text/plain": [
       "<Figure size 432x288 with 1 Axes>"
      ]
     },
     "metadata": {
      "needs_background": "light"
     },
     "output_type": "display_data"
    },
    {
     "data": {
      "image/png": "[encoded data removed]",
      "text/plain": [
       "<Figure size 432x288 with 1 Axes>"
      ]
     },
     "metadata": {
      "needs_background": "light"
     },
     "output_type": "display_data"
    }
   ],
   "source": [
    "LR = [100,1000,10000]\n",
    "for i in LR:\n",
    "    model = Sequential()\n",
    "    model.add(Dense(1,input_shape = (4,)))\n",
    "    # we have only one layer 3 paramteres , this is not a deep layer\n",
    "    \n",
    "    model.compile(Adam(lr = i),'mean_squared_error')\n",
    "    \n",
    "    \n",
    "    history = model.fit(x_train,y_train, epochs=50,validation_split =0.1,verbose = 1)\n",
    "    history_dict = history.history\n",
    "    \n",
    "    \n",
    "    loss_values = history_dict['loss']\n",
    "    val_loss_values = history_dict['val_loss']\n",
    "    plt.figure()\n",
    "    plt.plot(loss_values,'bo',label = 'training-data')\n",
    "    plt.plot(val_loss_values,'r',label = 'val training data')\n",
    "    "
   ]
  },
  {
   "cell_type": "code",
   "execution_count": 40,
   "metadata": {},
   "outputs": [],
   "source": [
    "y_train_pred = model.predict(x_train)\n",
    "y_test_pred = model.predict(x_test)"
   ]
  },
  {
   "cell_type": "code",
   "execution_count": 41,
   "metadata": {},
   "outputs": [
    {
     "name": "stdout",
     "output_type": "stream",
     "text": [
      "r2 score on training set is  0.7735667421627542\n",
      "r2 score on testing set is  0.771146898386846\n"
     ]
    }
   ],
   "source": [
    "print('r2 score on training set is ', r2_score(y_train,y_train_pred))\n",
    "print('r2 score on testing set is ' , r2_score(y_test,y_test_pred))"
   ]
  },
  {
   "cell_type": "code",
   "execution_count": null,
   "metadata": {},
   "outputs": [],
   "source": []
  }
 ],
 "metadata": {
  "colab": {
   "name": "MLR",
   "provenance": []
  },
  "kernelspec": {
   "display_name": "Python 3",
   "language": "python",
   "name": "python3"
  },
  "language_info": {
   "codemirror_mode": {
    "name": "ipython",
    "version": 3
   },
   "file_extension": ".py",
   "mimetype": "text/x-python",
   "name": "python",
   "nbconvert_exporter": "python",
   "pygments_lexer": "ipython3",
   "version": "3.7.1"
  }
 },
 "nbformat": 4,
 "nbformat_minor": 1
}
